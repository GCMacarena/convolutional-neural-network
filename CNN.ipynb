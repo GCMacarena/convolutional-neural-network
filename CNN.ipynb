{
  "cells": [
    {
      "cell_type": "code",
      "execution_count": null,
      "metadata": {
        "id": "NRVIz6UQtzpo"
      },
      "outputs": [],
      "source": [
        "# Módulos, funciones y clases a utilizar\n",
        "\n",
        "import tensorflow as tf\n",
        "import matplotlib.pyplot as plt\n",
        "import zipfile\n",
        "import os\n",
        "import pandas as pd\n",
        "\n",
        "from google.colab import drive\n",
        "from tensorflow import keras\n",
        "from keras import layers\n",
        "from keras.preprocessing.image import ImageDataGenerator\n",
        "from warnings import filters"
      ]
    },
    {
      "cell_type": "code",
      "execution_count": null,
      "metadata": {
        "id": "RtK4ZOf-t3GO"
      },
      "outputs": [],
      "source": [
        "#Importo el conjunto de datos RVL-CDIP\n",
        "\n",
        "#drive.mount('/content/drive')"
      ]
    },
    {
      "cell_type": "code",
      "execution_count": null,
      "metadata": {
        "id": "7FlNMNhZt6Bd"
      },
      "outputs": [],
      "source": [
        "#ls"
      ]
    },
    {
      "cell_type": "code",
      "execution_count": null,
      "metadata": {
        "id": "I0J5CtNYt7eQ"
      },
      "outputs": [],
      "source": [
        "# Ruta al archivo ZIP\n",
        "#zip_path = '/content/drive/MyDrive/RVL-CDIP.zip'\n",
        "\n",
        "# Creo una instancia de ZipFile y extraigo todo el contenido en la carpeta \"/data\"\n",
        "#with zipfile.ZipFile(zip_path, 'r') as zip_ref:\n",
        "#    zip_ref.extractall('/data')"
      ]
    },
    {
      "cell_type": "code",
      "execution_count": null,
      "metadata": {
        "colab": {
          "base_uri": "https://localhost:8080/"
        },
        "id": "U5qCQMdSBNH5",
        "outputId": "fe13ee5a-1c1d-4e2f-b543-149abea47e3f"
      },
      "outputs": [
        {
          "name": "stdout",
          "output_type": "stream",
          "text": [
            "Looking in indexes: https://pypi.org/simple, https://us-python.pkg.dev/colab-wheels/public/simple/\n",
            "Requirement already satisfied: gdown in /usr/local/lib/python3.10/dist-packages (4.6.6)\n",
            "Collecting gdown\n",
            "  Downloading gdown-4.7.1-py3-none-any.whl (15 kB)\n",
            "Requirement already satisfied: filelock in /usr/local/lib/python3.10/dist-packages (from gdown) (3.12.0)\n",
            "Requirement already satisfied: requests[socks] in /usr/local/lib/python3.10/dist-packages (from gdown) (2.27.1)\n",
            "Requirement already satisfied: six in /usr/local/lib/python3.10/dist-packages (from gdown) (1.16.0)\n",
            "Requirement already satisfied: tqdm in /usr/local/lib/python3.10/dist-packages (from gdown) (4.65.0)\n",
            "Requirement already satisfied: beautifulsoup4 in /usr/local/lib/python3.10/dist-packages (from gdown) (4.11.2)\n",
            "Requirement already satisfied: soupsieve>1.2 in /usr/local/lib/python3.10/dist-packages (from beautifulsoup4->gdown) (2.4.1)\n",
            "Requirement already satisfied: urllib3<1.27,>=1.21.1 in /usr/local/lib/python3.10/dist-packages (from requests[socks]->gdown) (1.26.15)\n",
            "Requirement already satisfied: certifi>=2017.4.17 in /usr/local/lib/python3.10/dist-packages (from requests[socks]->gdown) (2022.12.7)\n",
            "Requirement already satisfied: charset-normalizer~=2.0.0 in /usr/local/lib/python3.10/dist-packages (from requests[socks]->gdown) (2.0.12)\n",
            "Requirement already satisfied: idna<4,>=2.5 in /usr/local/lib/python3.10/dist-packages (from requests[socks]->gdown) (3.4)\n",
            "Requirement already satisfied: PySocks!=1.5.7,>=1.5.6 in /usr/local/lib/python3.10/dist-packages (from requests[socks]->gdown) (1.7.1)\n",
            "Installing collected packages: gdown\n",
            "  Attempting uninstall: gdown\n",
            "    Found existing installation: gdown 4.6.6\n",
            "    Uninstalling gdown-4.6.6:\n",
            "      Successfully uninstalled gdown-4.6.6\n",
            "Successfully installed gdown-4.7.1\n",
            "/usr/local/lib/python3.10/dist-packages/gdown/cli.py:126: FutureWarning: Option `--id` was deprecated in version 4.3.1 and will be removed in 5.0. You don't need to pass it anymore to use a file ID.\n",
            "  warnings.warn(\n",
            "Downloading...\n",
            "From (uriginal): https://drive.google.com/uc?id=1NWcFJai-KMYuCf2YqEFuQji6hKdjmMjZ\n",
            "From (redirected): https://drive.google.com/uc?id=1NWcFJai-KMYuCf2YqEFuQji6hKdjmMjZ&confirm=t&uuid=b2e6b9a6-bf53-429f-9197-e42419b76b1e\n",
            "To: /content/RVL-CDIP.zip\n",
            "100% 755M/755M [00:10<00:00, 70.5MB/s]\n"
          ]
        }
      ],
      "source": [
        "!pip install --upgrade --no-cache-dir gdown\n",
        "\n",
        "!gdown --id 1NWcFJai-KMYuCf2YqEFuQji6hKdjmMjZ\n",
        "\n",
        "!unzip -q RVL-CDIP.zip"
      ]
    },
    {
      "cell_type": "code",
      "execution_count": null,
      "metadata": {
        "id": "PVmC15gft9Sh"
      },
      "outputs": [],
      "source": [
        "# Defino 3 variables que contienen rutas (paths)a directorios donde se encuentran los datos de entrenamiento y prueba.\n",
        "# Se estará utilizando os.path.join() para unir la ruta base con la rutas de entrenamiento y prueba\n",
        "\n",
        "base_dir = '/content/RVL-CDIP' #Ruta al directorio base donde se encuentran los datos\n",
        "train_path = os.path.join(base_dir, '/data/RVL-CDIP/train') #Ruta de entrenamiento\n",
        "test_path = os.path.join(base_dir, '/data/RVL-CDIP/test') #Ruta de prueba"
      ]
    },
    {
      "cell_type": "markdown",
      "metadata": {
        "id": "s9jhfhNhuDoC"
      },
      "source": [
        "**Arquitectura de la red neuronal convolucional y compilación del modelo 1**"
      ]
    },
    {
      "cell_type": "code",
      "execution_count": null,
      "metadata": {
        "colab": {
          "base_uri": "https://localhost:8080/"
        },
        "id": "HIqjnQAYt-8v",
        "outputId": "17df1075-d436-44c7-cf63-c3a52c9e367f"
      },
      "outputs": [
        {
          "name": "stdout",
          "output_type": "stream",
          "text": [
            "Found 3003 images belonging to 2 classes.\n",
            "Found 3003 images belonging to 2 classes.\n"
          ]
        }
      ],
      "source": [
        "#Genero lotes de datos de entrenamiento y prueba mediante Data Augmentation y codificación one-hot\n",
        "\n",
        "batch_size = 128 # Número de ejemplos de entrenamiento que se procesan a la vez en una sola iteración del algoritmo\n",
        "\n",
        "train_datagen = keras.preprocessing.image.ImageDataGenerator(\n",
        "    rescale=1/255, #Rescalación de las imágenes de entrenamiento en valores de 0 a 1\n",
        ")\n",
        "\n",
        "train_it = train_datagen.flow_from_directory(\n",
        "        'RVL-CDIP/train/',\n",
        "        batch_size = 32,\n",
        "        target_size=(224,224), #Tamaño de imagen\n",
        "        class_mode='categorical', #Codificación one-hot de las etiquetas de clase\n",
        "        subset='training') #Señalo que solo quiero utilizar el conjunto de entrenamiento\n",
        "\n",
        "test_it= train_datagen.flow_from_directory(\n",
        "        'RVL-CDIP/test/',\n",
        "        batch_size = 32,\n",
        "        target_size=(224,224),\n",
        "        class_mode='categorical')"
      ]
    },
    {
      "cell_type": "code",
      "execution_count": null,
      "metadata": {
        "id": "prCVmfEouAgv"
      },
      "outputs": [],
      "source": [
        "# Utilizo el optimizador Adam, la función pérdida 'categorical_crossentropy', y metrica de precisión (accuracy).\n",
        "# La red tiene 3 capas de convolución y max-pooling (para evitar info redundante de las imagenes de entrada y evitar sobreajuste),\n",
        "# seguidas de 1 capa densa con activación 'relu' (Rectified Linear Unit) y una capa de salida con activación 'softmax'.\n",
        "\n",
        "num_classes = 2\n",
        "\n",
        "model = keras.Sequential([\n",
        "    layers.Conv2D(32, (3, 3), activation='relu', input_shape=(224, 224, 3)), #capa de convolucion\n",
        "    layers.MaxPooling2D((2, 2)),\n",
        "    layers.Conv2D(64, (3, 3), activation='relu'), #capa de convolucion\n",
        "    layers.MaxPooling2D((2, 2)),\n",
        "    layers.Conv2D(128, (3, 3), activation='relu'), #capa de convolucion\n",
        "    layers.MaxPooling2D((2, 2)),\n",
        "    layers.Flatten(),  # capa de achatado\n",
        "    layers.Dense(128, activation='relu'), #capa densa\n",
        "    layers.Dense(num_classes, activation='softmax') # capa de salida\n",
        "])\n",
        "\n",
        "model.compile(optimizer='adam',\n",
        "              loss='categorical_crossentropy',\n",
        "              metrics=['accuracy'])\n"
      ]
    },
    {
      "cell_type": "code",
      "execution_count": null,
      "metadata": {
        "colab": {
          "base_uri": "https://localhost:8080/"
        },
        "id": "Egi_4ysCtybc",
        "outputId": "3faae08a-cde0-4e4d-ce3d-c0f00e344331"
      },
      "outputs": [
        {
          "name": "stdout",
          "output_type": "stream",
          "text": [
            "Model: \"sequential\"\n",
            "_________________________________________________________________\n",
            " Layer (type)                Output Shape              Param #   \n",
            "=================================================================\n",
            " conv2d (Conv2D)             (None, 222, 222, 32)      896       \n",
            "                                                                 \n",
            " max_pooling2d (MaxPooling2D  (None, 111, 111, 32)     0         \n",
            " )                                                               \n",
            "                                                                 \n",
            " conv2d_1 (Conv2D)           (None, 109, 109, 64)      18496     \n",
            "                                                                 \n",
            " max_pooling2d_1 (MaxPooling  (None, 54, 54, 64)       0         \n",
            " 2D)                                                             \n",
            "                                                                 \n",
            " conv2d_2 (Conv2D)           (None, 52, 52, 128)       73856     \n",
            "                                                                 \n",
            " max_pooling2d_2 (MaxPooling  (None, 26, 26, 128)      0         \n",
            " 2D)                                                             \n",
            "                                                                 \n",
            " flatten (Flatten)           (None, 86528)             0         \n",
            "                                                                 \n",
            " dense (Dense)               (None, 128)               11075712  \n",
            "                                                                 \n",
            " dense_1 (Dense)             (None, 2)                 258       \n",
            "                                                                 \n",
            "=================================================================\n",
            "Total params: 11,169,218\n",
            "Trainable params: 11,169,218\n",
            "Non-trainable params: 0\n",
            "_________________________________________________________________\n"
          ]
        }
      ],
      "source": [
        "model.summary()"
      ]
    },
    {
      "cell_type": "code",
      "execution_count": null,
      "metadata": {
        "colab": {
          "background_save": true,
          "base_uri": "https://localhost:8080/"
        },
        "id": "Pbs3dyVUuI1l",
        "outputId": "aa4a4638-46cc-46f1-daa9-c9ad305e5f1f"
      },
      "outputs": [
        {
          "name": "stdout",
          "output_type": "stream",
          "text": [
            "Epoch 1/5\n",
            "94/94 [==============================] - 525s 6s/step - loss: 0.5992 - accuracy: 0.7882 - val_loss: 0.3572 - val_accuracy: 0.8821\n",
            "Epoch 2/5\n",
            "94/94 [==============================] - 502s 5s/step - loss: 0.1524 - accuracy: 0.9427 - val_loss: 0.4558 - val_accuracy: 0.8302\n",
            "Epoch 3/5\n",
            "94/94 [==============================] - 489s 5s/step - loss: 0.0741 - accuracy: 0.9734 - val_loss: 0.5255 - val_accuracy: 0.8198\n",
            "Epoch 4/5\n",
            "94/94 [==============================] - 501s 5s/step - loss: 0.0522 - accuracy: 0.9804 - val_loss: 0.3132 - val_accuracy: 0.8631\n",
            "Epoch 5/5\n",
            "94/94 [==============================] - 459s 5s/step - loss: 0.0510 - accuracy: 0.9814 - val_loss: 0.2306 - val_accuracy: 0.9214\n"
          ]
        }
      ],
      "source": [
        "history = model.fit(train_it, epochs = 5, validation_data = test_it)"
      ]
    },
    {
      "cell_type": "code",
      "execution_count": null,
      "metadata": {
        "colab": {
          "background_save": true
        },
        "id": "NOL4hN9iuKFP",
        "outputId": "c316a1ca-4f24-4cbd-8165-5a23246c65e2"
      },
      "outputs": [
        {
          "data": {
            "image/png": "[encoded data removed]",
            "text/plain": [
              "<Figure size 640x480 with 1 Axes>"
            ]
          },
          "metadata": {},
          "output_type": "display_data"
        },
        {
          "data": {
            "image/png": "[encoded data removed]",
            "text/plain": [
              "<Figure size 640x480 with 1 Axes>"
            ]
          },
          "metadata": {},
          "output_type": "display_data"
        }
      ],
      "source": [
        "# Visualizo la precisión\n",
        "plt.plot(history.history['accuracy'])\n",
        "plt.plot(history.history['val_accuracy'])\n",
        "plt.title('Precisión del modelo')\n",
        "plt.ylabel('Precisión')\n",
        "plt.xlabel('Época')\n",
        "plt.legend(['Entrenamiento', 'Prueba'], loc='upper left')\n",
        "plt.show()\n",
        "\n",
        "# Visualizo la pérdida\n",
        "plt.plot(history.history['loss'])\n",
        "plt.plot(history.history['val_loss'])\n",
        "plt.title('Pérdida del modelo')\n",
        "plt.ylabel('Pérdida')\n",
        "plt.xlabel('Época')\n",
        "plt.legend(['Entrenamiento', 'Prueba'], loc='upper left')\n",
        "plt.show()"
      ]
    },
    {
      "cell_type": "code",
      "execution_count": null,
      "metadata": {
        "colab": {
          "background_save": true
        },
        "id": "uh9UthMwFNNJ",
        "outputId": "50c2b990-3c89-49ff-ab67-64a1a92ad7fd"
      },
      "outputs": [
        {
          "name": "stdout",
          "output_type": "stream",
          "text": [
            "       loss  accuracy  val_loss  val_accuracy\n",
            "0  0.599170  0.788212  0.357154      0.882118\n",
            "1  0.152402  0.942724  0.455778      0.830170\n",
            "2  0.074075  0.973360  0.525486      0.819847\n",
            "3  0.052228  0.980353  0.313249      0.863137\n",
            "4  0.050993  0.981352  0.230632      0.921412\n"
          ]
        }
      ],
      "source": [
        "# Convierto el historial de entrenamiento en un DataFrame de Pandas\n",
        "df_history = pd.DataFrame(history.history)\n",
        "\n",
        "# Muestro la tabla con las métricas de entrenamiento\n",
        "print(df_history)"
      ]
    },
    {
      "cell_type": "markdown",
      "metadata": {
        "id": "p8Hzjgl7uYaF"
      },
      "source": [
        "**Arquitectura de la red neuronal convolucional y compilación del modelo 2**"
      ]
    },
    {
      "cell_type": "code",
      "execution_count": null,
      "metadata": {
        "colab": {
          "background_save": true
        },
        "id": "08wJSrDkU_BP",
        "outputId": "cfb7e1fe-23a8-4e6f-efc3-8b9934e05e9f"
      },
      "outputs": [
        {
          "name": "stdout",
          "output_type": "stream",
          "text": [
            "Found 3003 images belonging to 2 classes.\n",
            "Found 3003 images belonging to 2 classes.\n"
          ]
        }
      ],
      "source": [
        "test_datagen = keras.preprocessing.image.ImageDataGenerator(rescale=1/255)\n",
        "\n",
        "\n",
        "train_it = test_datagen.flow_from_directory(\n",
        "    'RVL-CDIP/train/',\n",
        "    batch_size=64,\n",
        "    target_size=(256,256), # Tamaño de imagen\n",
        "    class_mode='categorical', # Codificación one-hot de las etiquetas de clase\n",
        "    subset='training' # Señalo que solo quiero utilizar el conjunto de entrenamiento\n",
        ")\n",
        "\n",
        "\n",
        "test_it = test_datagen.flow_from_directory(\n",
        "    'RVL-CDIP/test/',\n",
        "    batch_size=64,\n",
        "    target_size=(256,256), # Tamaño de imagen\n",
        "    class_mode='categorical'\n",
        ")"
      ]
    },
    {
      "cell_type": "code",
      "execution_count": null,
      "metadata": {
        "colab": {
          "background_save": true
        },
        "id": "-4XMPhb4vYWp"
      },
      "outputs": [],
      "source": [
        "model = keras.Sequential([\n",
        "    keras.layers.Input(shape=(256,256,3)), # capa de entrada\n",
        "    keras.layers.Conv2D(filters=64, kernel_size=(3,3), padding=\"same\", activation=\"relu\"), # capa de convolución\n",
        "    keras.layers.MaxPool2D((2,2)),\n",
        "    keras.layers.Dropout(0.2),\n",
        "    keras.layers.Conv2D(filters=32, kernel_size=(3,3), padding=\"same\", activation=\"relu\"), # capa de convolución\n",
        "    keras.layers.MaxPool2D((2,2)),\n",
        "    keras.layers.Conv2D(filters=16, kernel_size=(3,3), padding=\"same\", activation=\"relu\"), # capa de convolución\n",
        "    keras.layers.MaxPool2D((2,2)),\n",
        "    keras.layers.Flatten(), # capa de aplanamiento\n",
        "    keras.layers.Dense(units=512, activation=\"relu\"), # capa densa\n",
        "    keras.layers.Dense(units=2, activation=\"softmax\") # capa de salida con dos clases\n",
        "])"
      ]
    },
    {
      "cell_type": "code",
      "execution_count": null,
      "metadata": {
        "colab": {
          "background_save": true
        },
        "id": "pLCQ6RLMxwvs"
      },
      "outputs": [],
      "source": [
        "model.compile(optimizer=\"adam\", loss=\"categorical_crossentropy\", metrics=[\"accuracy\"])\n"
      ]
    },
    {
      "cell_type": "code",
      "execution_count": null,
      "metadata": {
        "colab": {
          "background_save": true
        },
        "id": "jeXpbQnQx4Ny",
        "outputId": "d1215005-7888-4bd6-b1c1-c95248c3cd87"
      },
      "outputs": [
        {
          "name": "stdout",
          "output_type": "stream",
          "text": [
            "Model: \"sequential_1\"\n",
            "_________________________________________________________________\n",
            " Layer (type)                Output Shape              Param #   \n",
            "=================================================================\n",
            " conv2d_3 (Conv2D)           (None, 256, 256, 64)      1792      \n",
            "                                                                 \n",
            " max_pooling2d_3 (MaxPooling  (None, 128, 128, 64)     0         \n",
            " 2D)                                                             \n",
            "                                                                 \n",
            " dropout (Dropout)           (None, 128, 128, 64)      0         \n",
            "                                                                 \n",
            " conv2d_4 (Conv2D)           (None, 128, 128, 32)      18464     \n",
            "                                                                 \n",
            " max_pooling2d_4 (MaxPooling  (None, 64, 64, 32)       0         \n",
            " 2D)                                                             \n",
            "                                                                 \n",
            " conv2d_5 (Conv2D)           (None, 64, 64, 16)        4624      \n",
            "                                                                 \n",
            " max_pooling2d_5 (MaxPooling  (None, 32, 32, 16)       0         \n",
            " 2D)                                                             \n",
            "                                                                 \n",
            " flatten_1 (Flatten)         (None, 16384)             0         \n",
            "                                                                 \n",
            " dense_2 (Dense)             (None, 512)               8389120   \n",
            "                                                                 \n",
            " dense_3 (Dense)             (None, 2)                 1026      \n",
            "                                                                 \n",
            "=================================================================\n",
            "Total params: 8,415,026\n",
            "Trainable params: 8,415,026\n",
            "Non-trainable params: 0\n",
            "_________________________________________________________________\n"
          ]
        }
      ],
      "source": [
        "model.summary()"
      ]
    },
    {
      "cell_type": "code",
      "execution_count": null,
      "metadata": {
        "id": "-pBQNL6vx4r4"
      },
      "outputs": [],
      "source": [
        "model_fit = model.fit(train_it, epochs=5, validation_data=test_it)"
      ]
    },
    {
      "cell_type": "code",
      "execution_count": null,
      "metadata": {
        "id": "oKztIUyUyEIR"
      },
      "outputs": [],
      "source": [
        "# Visualizo la precisión\n",
        "plt.plot(model_fit.history['accuracy'])\n",
        "plt.plot(model_fit.history['val_accuracy'])\n",
        "plt.title('Precisión del modelo')\n",
        "plt.ylabel('Precisión')\n",
        "plt.xlabel('Época')\n",
        "plt.legend(['Entrenamiento', 'Validación'], loc='upper left')\n",
        "plt.show()\n",
        "\n",
        "# Visualizo la pérdida\n",
        "plt.plot(model_fit.history['loss'])\n",
        "plt.plot(model_fit.history['val_loss'])\n",
        "plt.title('Pérdida del modelo')\n",
        "plt.ylabel('Pérdida')\n",
        "plt.xlabel('Época')\n",
        "plt.legend(['Entrenamiento', 'Validación'], loc='upper left')\n",
        "plt.show()"
      ]
    },
    {
      "cell_type": "code",
      "execution_count": null,
      "metadata": {
        "id": "KshkIz30VbgE"
      },
      "outputs": [],
      "source": [
        "# Convierto el historial de entrenamiento en un DataFrame de Pandas\n",
        "df_history2 = pd.DataFrame(model_fit.history)\n",
        "\n",
        "# Muestro la tabla con las métricas de entrenamiento\n",
        "print(df_history2)"
      ]
    },
    {
      "cell_type": "markdown",
      "metadata": {
        "id": "bS2iYEUPuPMB"
      },
      "source": [
        "**Arquitectura RestNet50**\n",
        "\n",
        "Arquitectura pre-entrenada en ImageNet"
      ]
    },
    {
      "cell_type": "code",
      "execution_count": null,
      "metadata": {
        "id": "__rvYST2uQ2x"
      },
      "outputs": [],
      "source": [
        "def ResNet(classes):\n",
        "  from keras.applications.resnet_v2 import ResNet50V2\n",
        "  base_model = ResNet50V2(input_shape = (224,224,3), weights='imagenet', include_top=False) #Elimino la capa de clasificación de la red neuronal pre-entrenada\n",
        "  base_model.trainable = False\n",
        "\n",
        "  model = tf.keras.Sequential([\n",
        "    base_model,\n",
        "    tf.keras.layers.GlobalAveragePooling2D(name='GlobalAvgPooling_Layer'), #Reduzco la dimensión de los datos con GlobalAveragePooling2D\n",
        "    tf.keras.layers.Dropout(0.4, name='Dropout_Layer'), #Reduzco el sobreajuste\n",
        "    tf.keras.layers.Dense(classes, activation='softmax', name='Output_Layer')\n",
        "  ])\n",
        "\n",
        "  model.summary()\n",
        "\n",
        "\n",
        "model.compile(loss = 'categorical_crossentropy', optimizer = tf.keras.optimizers.SGD(learning_rate = 0.0001, momentum=0.9), metrics = ['accuracy'])\n",
        "return model\n"
      ]
    },
    {
      "cell_type": "code",
      "execution_count": null,
      "metadata": {
        "id": "XaMMIWjiE7GH"
      },
      "outputs": [],
      "source": [
        "def ResNet(classes):\n",
        "  from keras.applications.resnet_v2 import ResNet50V2\n",
        "  base_model = ResNet50V2(input_shape = (224,224,3), weights='imagenet', include_top=False) #Elimino la capa de clasificación de la red neuronal pre-entrenada\n",
        "  base_model.trainable = False\n",
        "  model = tf.keras.Sequential([\n",
        "    base_model,\n",
        "    tf.keras.layers.GlobalAveragePooling2D(name='GlobalAvgPooling_Layer'), #Reduzco la dimensión de los datos con GlobalAveragePooling2D\n",
        "    tf.keras.layers.Dropout(0.4, name='Dropout_Layer'), #Reduzco el sobreajuste\n",
        "    tf.keras.layers.Dense(classes, activation='softmax', name='Output_Layer')\n",
        "  ])\n",
        "\n",
        "  model.summary()\n",
        "\n",
        "  model.compile(loss = 'categorical_crossentropy', optimizer = tf.keras.optimizers.SGD(learning_rate = 0.0001, momentum=0.9), metrics = ['accuracy']) #Utilizo misma función de pérdida 'categorical_crossentropy' y metrica de precisión que en la arquitectura anterior\n",
        "  return model"
      ]
    },
    {
      "cell_type": "code",
      "execution_count": null,
      "metadata": {
        "id": "94UfTgRfuSI7"
      },
      "outputs": [],
      "source": [
        "resnet_model = ResNet(classes = 2)"
      ]
    },
    {
      "cell_type": "code",
      "execution_count": null,
      "metadata": {
        "id": "83PsBsvuuTU9"
      },
      "outputs": [],
      "source": [
        "resnet_history = resnet_model.fit(train_it, epochs=5, validation_data = test_it, verbose = 1)"
      ]
    },
    {
      "cell_type": "code",
      "execution_count": null,
      "metadata": {
        "id": "-5hevrYRuUkS"
      },
      "outputs": [],
      "source": [
        "# Visualizo la precisión\n",
        "plt.plot(resnet_history.history['accuracy'])\n",
        "plt.plot(resnet_history.history['val_accuracy'])\n",
        "plt.title('Precisión del modelo')\n",
        "plt.ylabel('Precisión')\n",
        "plt.xlabel('Época')\n",
        "plt.legend(['Entrenamiento', 'Validación'], loc='upper left')\n",
        "plt.show()\n",
        "\n",
        "# Visualizo la pérdida\n",
        "plt.plot(resnet_history.history['loss'])\n",
        "plt.plot(resnet_history.history['val_loss'])\n",
        "plt.title('Pérdida del modelo')\n",
        "plt.ylabel('Pérdida')\n",
        "plt.xlabel('Época')\n",
        "plt.legend(['Entrenamiento', 'Validación'], loc='upper left')\n",
        "plt.show()"
      ]
    },
    {
      "cell_type": "code",
      "execution_count": null,
      "metadata": {
        "id": "xESFTl0TFadX"
      },
      "outputs": [],
      "source": [
        "# Convierto el historial de entrenamiento en un DataFrame de Pandas\n",
        "df_resnethistory = pd.DataFrame(resnet_history.history)\n",
        "\n",
        "# Muestro la tabla con las métricas de entrenamiento\n",
        "print(df_resnethistory)\n",
        "\n"
      ]
    },
    {
      "cell_type": "markdown",
      "metadata": {
        "id": "q_jlvO1iFwAv"
      },
      "source": [
        "**Conclusión**\n",
        "\n",
        "**Modelo 1.** El modelo tiene una buena precisión y un bajo valor de pérdida en el conjunto de entrenamiento, lo que indica que el modelo ha aprendido bien los patrones en los datos de entrenamiento. Sin embargo, la precisión en el conjunto de validación es menor que en el conjunto de entrenamiento y la función de pérdida es mayor, lo que sugiere que el modelo puede estar sobreajustando los datos de entrenamiento y no generalizando bien a datos nuevos.\n",
        "\n",
        "**Modelo 2.** El modelo 2 obtuvo resultados similares al modelo 1. Se considera que asimismo requiere ajustes adicionales, como por ejemplo, ajustar la tasa de aprendizaje (learning rate) o cambiar la arquitectura de la red, para lograr un rendimiento óptimo en la tarea de clasificación.\n",
        "\n",
        "**Modelo Resnet.** El modelo está teniendo dificultades para hacer predicciones precisas, ya que la exactitud (accuracy) es relativamente baja en todas las épocas. Además, tanto la pérdida de entrenamiento (loss) como la pérdida de validación (val_loss) parecen estar aumentando con el tiempo, lo que también puede ser una señal de que el modelo está sobreajustando los datos de entrenamiento. Posiblemente el modelo podría mejorar con un ajuste adicional para mejorar su rendimiento.\n"
      ]
    }
  ],
  "metadata": {
    "colab": {
      "provenance": []
    },
    "kernelspec": {
      "display_name": "Python 3",
      "name": "python3"
    },
    "language_info": {
      "name": "python"
    }
  },
  "nbformat": 4,
  "nbformat_minor": 0
}